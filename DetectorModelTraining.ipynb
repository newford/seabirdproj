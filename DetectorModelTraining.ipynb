{
 "cells": [
  {
   "cell_type": "markdown",
   "metadata": {
    "toc": true
   },
   "source": [
    "<h1>Table of Contents<span class=\"tocSkip\"></span></h1>\n",
    "<div class=\"toc\"><ul class=\"toc-item\"><li><span><a href=\"#Data-and-paths\" data-toc-modified-id=\"Data-and-paths-1\"><span class=\"toc-item-num\">1&nbsp;&nbsp;</span>Data and paths</a></span></li><li><span><a href=\"#Prepare-data\" data-toc-modified-id=\"Prepare-data-2\"><span class=\"toc-item-num\">2&nbsp;&nbsp;</span>Prepare data</a></span></li><li><span><a href=\"#Train-a-model\" data-toc-modified-id=\"Train-a-model-3\"><span class=\"toc-item-num\">3&nbsp;&nbsp;</span>Train a model</a></span><ul class=\"toc-item\"><li><ul class=\"toc-item\"><li><span><a href=\"#Detection-models\" data-toc-modified-id=\"Detection-models-3.0.1\"><span class=\"toc-item-num\">3.0.1&nbsp;&nbsp;</span>Detection models</a></span></li></ul></li></ul></li><li><span><a href=\"#Test-model-on-an-image\" data-toc-modified-id=\"Test-model-on-an-image-4\"><span class=\"toc-item-num\">4&nbsp;&nbsp;</span>Test model on an image</a></span></li><li><span><a href=\"#HEJ!\" data-toc-modified-id=\"HEJ!-5\"><span class=\"toc-item-num\">5&nbsp;&nbsp;</span>HEJ!</a></span></li></ul></div>"
   ]
  },
  {
   "cell_type": "markdown",
   "metadata": {},
   "source": [
    "This notebook is for training YOLOv3 models as described in https://imageai.readthedocs.io/en/latest/customdetection/index.html"
   ]
  },
  {
   "cell_type": "code",
   "execution_count": null,
   "metadata": {},
   "outputs": [],
   "source": [
    "# Show python version in output using sys\n",
    "import sys\n",
    "print(sys.version)"
   ]
  },
  {
   "cell_type": "code",
   "execution_count": null,
   "metadata": {},
   "outputs": [],
   "source": [
    "import pandas as pd\n",
    "import json\n",
    "import os\n",
    "from Json2PascalVoc.Converter import Converter"
   ]
  },
  {
   "cell_type": "code",
   "execution_count": null,
   "metadata": {},
   "outputs": [],
   "source": [
    "# !pip install keras\n"
   ]
  },
  {
   "cell_type": "code",
   "execution_count": null,
   "metadata": {},
   "outputs": [],
   "source": [
    "import matplotlib.pyplot as plt\n",
    "%matplotlib inline"
   ]
  },
  {
   "cell_type": "code",
   "execution_count": null,
   "metadata": {},
   "outputs": [],
   "source": [
    "# we need to crop images\n",
    "from PIL import Image\n"
   ]
  },
  {
   "cell_type": "code",
   "execution_count": null,
   "metadata": {},
   "outputs": [],
   "source": [
    "from imageai.Detection.Custom import DetectionModelTrainer\n",
    "from imageai.Detection.Custom import CustomObjectDetection\n"
   ]
  },
  {
   "cell_type": "markdown",
   "metadata": {},
   "source": [
    "## Data and paths"
   ]
  },
  {
   "cell_type": "code",
   "execution_count": null,
   "metadata": {},
   "outputs": [],
   "source": [
    "path_home = os.getcwd()\n",
    "\n",
    "#data_path = os.path.join(path_home, \"data\")\n",
    "data_path = path_home\n",
    "print(data_path)\n",
    "print(path_home)"
   ]
  },
  {
   "cell_type": "code",
   "execution_count": null,
   "metadata": {},
   "outputs": [],
   "source": [
    "# Images\n",
    "image_path = os.path.join(data_path, 'Annotation/AnnotationImagesSeabirds')\n",
    "image_path_a1 = os.path.join(image_path, 'Adult birds')\n",
    "image_path_a2 = os.path.join(image_path, 'Chicks')\n",
    "image_path_a3 = os.path.join(image_path, 'Egg')\n"
   ]
  },
  {
   "cell_type": "markdown",
   "metadata": {},
   "source": [
    "## Prepare data"
   ]
  },
  {
   "cell_type": "markdown",
   "metadata": {},
   "source": [
    "Arrange data according to instructions at https://imageai.readthedocs.io/en/latest/custom/index.html\n",
    "\n",
    "* To get started, you need prepare your dataset in the Pascal VOC Format and organize it as detailed below:\n",
    "* Decide the type of object(s) you want to detect and collect about 200 (minimum recommendation) or more picture of each of the object(s)\n",
    "* Once you have collected the images, you need to annotate the object(s) in the images. You can use a tool like LabelIMG to generate the annotations for your images.\n",
    "* Once you have the annotations for all your images, create a folder for your dataset (E.g headsets) and in this parent folder, create child folders train and validation\n",
    "* In the train folder, create images and annotations sub-folders. Put about 70-80% of your dataset of each object’s images in the images folder and put the corresponding annotations for these images in the annotations folder.\n",
    "* In the validation folder, create images and annotations sub-folders. Put the rest of your dataset images in the images folder and put the corresponding annotations for these images in the annotations folder."
   ]
  },
  {
   "cell_type": "code",
   "execution_count": null,
   "metadata": {},
   "outputs": [],
   "source": [
    "# Create new folders (unless they exist) for trainng and test data in the data folder\n",
    "# Skip this if done manually\n",
    "# paths:\n",
    "train_data_path = os.path.join(data_path, 'detection', 'train')\n",
    "test_data_path = os.path.join(data_path, 'detection', 'validation')\n",
    "train_im_data_path = os.path.join(train_data_path, 'images')\n",
    "test_im_data_path = os.path.join(test_data_path, 'images')\n",
    "train_annot_data_path = os.path.join(train_data_path, 'annotations')\n",
    "test_annot_data_path = os.path.join(test_data_path, 'annotations')\n",
    "    \n",
    "try:\n",
    "    # create training data folder\n",
    "    #os.mkdir(os.path.join(data_path, 'detection'))\n",
    "    #os.mkdir(train_data_path)\n",
    "    #os.mkdir(test_data_path)\n",
    "    \n",
    "    os.mkdir(train_im_data_path)\n",
    "    os.mkdir(test_im_data_path)\n",
    "    os.mkdir(train_annot_data_path)\n",
    "    os.mkdir(test_annot_data_path)\n",
    "except Exception:\n",
    "    print('Failed! Folders already exist?')"
   ]
  },
  {
   "cell_type": "code",
   "execution_count": null,
   "metadata": {},
   "outputs": [],
   "source": [
    "# Read CSV file with JSON formatted information for each training image\n",
    "path1 = os.path.join(data_path, 'Annotation', 'Export AIIOS Birds_v2.csv')\n",
    "df = pd.read_csv(path1, sep=';', header=0)\n",
    "print(df.shape)\n",
    "\n"
   ]
  },
  {
   "cell_type": "code",
   "execution_count": null,
   "metadata": {},
   "outputs": [],
   "source": [
    "# Split into training data and test data\n",
    "df_train = df.sample(frac=0.8, axis=0)\n",
    "print(df_train.shape)\n",
    "df_train.head(10)"
   ]
  },
  {
   "cell_type": "code",
   "execution_count": null,
   "metadata": {},
   "outputs": [],
   "source": [
    "# Remaining used for testing\n",
    "df_test = df.drop(df_train.index)\n",
    "print(df_test.shape)\n",
    "df_test.head()"
   ]
  },
  {
   "cell_type": "code",
   "execution_count": null,
   "metadata": {},
   "outputs": [],
   "source": [
    "template_json = {\n",
    "   \"data\":[\n",
    "      {\n",
    "         \"annotation\":{\n",
    "            \"folder\":\"class1\",\n",
    "            \"filename\":\"_ADC0362.jpg\",\n",
    "            \"path\":\"~/Desktop/Dev/data/foo/train/class1/_ADC0362.jpg\",\n",
    "            \"source\":{\n",
    "               \"database\":\"Unknown\"\n",
    "            },\n",
    "            \"size\":{\n",
    "               \"width\":1500,\n",
    "               \"height\":1500,\n",
    "               \"depth\":3\n",
    "            },\n",
    "            \"segmented\":0,\n",
    "            \"object\":[\n",
    "               {\n",
    "                  \"name\":\"class1\",\n",
    "                  \"pose\":\"Unspecified\",\n",
    "                  \"truncated\":0,\n",
    "                  \"difficult\":0,\n",
    "                  \"bndbox\":{\n",
    "                     \"xmin\":579,\n",
    "                     \"ymin\":584,\n",
    "                     \"xmax\":924,\n",
    "                     \"ymax\":1120\n",
    "                  }\n",
    "               },\n",
    "               {\n",
    "                  \"name\":\"class1\",\n",
    "                  \"pose\":\"Unspecified\",\n",
    "                  \"truncated\":0,\n",
    "                  \"difficult\":0,\n",
    "                  \"bndbox\":{\n",
    "                     \"xmin\":120,\n",
    "                     \"ymin\":400,\n",
    "                     \"xmax\":1150,\n",
    "                     \"ymax\":800\n",
    "                  }\n",
    "               }\n",
    "\n",
    "            ]\n",
    "         }\n",
    "      },\n",
    "   ]\n",
    "}"
   ]
  },
  {
   "cell_type": "code",
   "execution_count": null,
   "metadata": {},
   "outputs": [],
   "source": [
    "def json2json(f_name, f_path, dict_in, image_size, folder=\"\"):\n",
    "    # \n",
    "    dict_out = template_json.copy()\n",
    "    temp1 = dict_out['data'][0]['annotation']\n",
    "    \n",
    "    temp1[\"folder\"] = folder\n",
    "    temp1[\"filename\"] = f_name\n",
    "    temp1[\"path\"] = f_path\n",
    "    temp1[\"size\"] = image_size\n",
    "    \n",
    "    temp1[\"object\"] = []\n",
    "    ok = False\n",
    "    for ii, obj in enumerate(dict_in['objects']):\n",
    "        if len(obj['boundaries']) > 0:\n",
    "            object_boundaries = obj['boundaries'][0]['boundaryPoints']\n",
    "            x_vals = [x['coords'][0] for x in object_boundaries]\n",
    "            y_vals = [x['coords'][1] for x in object_boundaries]\n",
    "            left = min(x_vals)\n",
    "            right = max(x_vals)\n",
    "            bottom = max(y_vals)\n",
    "            top = min(y_vals)  \n",
    "        \n",
    "            tmp =  {\n",
    "                      \"name\": obj['type'],\n",
    "                      \"pose\":\"Unspecified\",\n",
    "                      \"truncated\":0,\n",
    "                      \"difficult\":0,\n",
    "                      \"bndbox\":{\n",
    "                         \"xmin\":left,\n",
    "                         \"ymin\":top,\n",
    "                         \"xmax\":right,\n",
    "                         \"ymax\":bottom,\n",
    "                      }\n",
    "            }\n",
    "            temp1[\"object\"].append(tmp) \n",
    "            ok = True\n",
    "        else:\n",
    "            print('Missing coordintaes, skipping')\n",
    "            print(obj['boundaries'])\n",
    "    return(dict_out, ok)"
   ]
  },
  {
   "cell_type": "code",
   "execution_count": null,
   "metadata": {},
   "outputs": [],
   "source": [
    "# test\n",
    "fname = 'Farallon3_20190525_221309_No001.jpg'\n",
    "f_path = image_path\n",
    "dict_in = data\n",
    "im_size = { \"width\":1500,\n",
    "               \"height\":1500,\n",
    "               \"depth\":3,\n",
    "          }\n",
    "json2json(fname, f_path, dict_in, im_size)"
   ]
  },
  {
   "cell_type": "code",
   "execution_count": null,
   "metadata": {},
   "outputs": [],
   "source": [
    "data"
   ]
  },
  {
   "cell_type": "code",
   "execution_count": null,
   "metadata": {},
   "outputs": [],
   "source": [
    "# Prepare training  data\n",
    "image_nr = 0\n",
    "\n",
    "xml_list = []\n",
    "num_im = 0\n",
    "for ind in df_train.index:\n",
    "    p1_str = df_train.loc[ind].get_values()\n",
    "    pname, json_string = p1_str[0].split(',', 1)\n",
    "    print('File name: ', pname)\n",
    "    # Get objects\n",
    "    data = json.loads(json_string)\n",
    "    #data = json.dumps(json_string)\n",
    "    # obj_list = data['objects']\n",
    "    \n",
    "    if len(data['objects']) > 0: \n",
    "        if len(data['objects'][0]['boundaries']) > 0:\n",
    "            \n",
    "            #Read image\n",
    "            success = True        \n",
    "            if pname in os.listdir(image_path):\n",
    "                im = Image.open(os.path.join(image_path, pname))\n",
    "                f_path = image_path\n",
    "            elif pname in os.listdir(image_path_a1):\n",
    "                im = Image.open(os.path.join(image_path_a1, pname))\n",
    "                f_path = image_path_a1\n",
    "            elif pname in os.listdir(image_path_a2):\n",
    "                f_path = image_path_a2\n",
    "                im = Image.open(os.path.join(image_path_a2, pname))\n",
    "            elif pname in os.listdir(image_path_a3):\n",
    "                im = Image.open(os.path.join(image_path_a3, pname))\n",
    "                f_path = image_path_a3\n",
    "            else:\n",
    "                success = False\n",
    "                print('Image {} not found!'.format(pname))\n",
    "                # crash_me_now()\n",
    "\n",
    "            if success:\n",
    "               \n",
    "                im_size = {'width': im.size[0], 'height': im.size[1], 'depth': 3}\n",
    "                folder = train_data_path # f_path.split('/')[-1]\n",
    "\n",
    "                new_data, success = json2json(pname, f_path, data, im_size, folder)\n",
    "                \n",
    "                if success:\n",
    "                    num_im += 1\n",
    "                    fname = pname.split('.')[0]\n",
    "                    path_out = os.path.join(train_data_path, fname + '.json')\n",
    "\n",
    "                    with open(path_out, 'w') as f:\n",
    "                        f.write(json.dumps(new_data))\n",
    "\n",
    "                    #jsonfile = open(path_out, 'w')\n",
    "                    #jsonfile.write(json.dumps(new_data))\n",
    "\n",
    "                    # print(new_data)\n",
    "\n",
    "\n",
    "                    myConverter = Converter()\n",
    "                    # returns a Converter Object\n",
    "                    myConverter.convertJsonToPascal(path_out)\n",
    "                    # Converts Json to PascalVOC XML and saves the XML file to the related file path\n",
    "                    xml_list.append(fname + '.xml')\n",
    "        \n",
    "        \n",
    "print('Done')  \n",
    "print('Number of images: ', num_im)\n",
    "print('Last object:')\n",
    "plt.imshow(im)\n",
    "plt.show()\n"
   ]
  },
  {
   "cell_type": "code",
   "execution_count": null,
   "metadata": {},
   "outputs": [],
   "source": [
    "# Prepare validation  data\n",
    "image_nr = 0\n",
    "\n",
    "xml_list = []\n",
    "num_im = 0\n",
    "for ind in df_test.index:\n",
    "    p1_str = df_test.loc[ind].get_values()\n",
    "    pname, json_string = p1_str[0].split(',', 1)\n",
    "    print('File name: ', pname)\n",
    "    # Get objects\n",
    "    data = json.loads(json_string)\n",
    "    #data = json.dumps(json_string)\n",
    "    # obj_list = data['objects']\n",
    "    \n",
    "    if len(data['objects']) > 0: \n",
    "        if len(data['objects'][0]['boundaries']) > 0:\n",
    "            \n",
    "            #Read image\n",
    "            success = True        \n",
    "            if pname in os.listdir(image_path):\n",
    "                im = Image.open(os.path.join(image_path, pname))\n",
    "                f_path = image_path\n",
    "            elif pname in os.listdir(image_path_a1):\n",
    "                im = Image.open(os.path.join(image_path_a1, pname))\n",
    "                f_path = image_path_a1\n",
    "            elif pname in os.listdir(image_path_a2):\n",
    "                f_path = image_path_a2\n",
    "                im = Image.open(os.path.join(image_path_a2, pname))\n",
    "            elif pname in os.listdir(image_path_a3):\n",
    "                im = Image.open(os.path.join(image_path_a3, pname))\n",
    "                f_path = image_path_a3\n",
    "            else:\n",
    "                success = False\n",
    "                print('Image {} not found!'.format(pname))\n",
    "                # crash_me_now()\n",
    "\n",
    "            if success:\n",
    "               \n",
    "                im_size = {'width': im.size[0], 'height': im.size[1], 'depth': 3}\n",
    "                folder = test_data_path # f_path.split('/')[-1]\n",
    "\n",
    "                new_data, success = json2json(pname, f_path, data, im_size, folder)\n",
    "                \n",
    "                if success:\n",
    "                    num_im += 1\n",
    "                    fname = pname.split('.')[0]\n",
    "                    path_out = os.path.join(test_data_path, fname + '.json')\n",
    "\n",
    "                    with open(path_out, 'w') as f:\n",
    "                        f.write(json.dumps(new_data))\n",
    "\n",
    "                    #jsonfile = open(path_out, 'w')\n",
    "                    #jsonfile.write(json.dumps(new_data))\n",
    "\n",
    "                    # print(new_data)\n",
    "\n",
    "\n",
    "                    myConverter = Converter()\n",
    "                    # returns a Converter Object\n",
    "                    myConverter.convertJsonToPascal(path_out)\n",
    "                    # Converts Json to PascalVOC XML and saves the XML file to the related file path\n",
    "                    xml_list.append(fname + '.xml')\n",
    "        \n",
    "        \n",
    "print('Done')  \n",
    "print('Number of images: ', num_im)\n",
    "print('Last object:')\n",
    "plt.imshow(im)\n",
    "plt.show()\n"
   ]
  },
  {
   "cell_type": "raw",
   "metadata": {},
   "source": [
    " Farallon3_20190705_190712_No002.jpg"
   ]
  },
  {
   "cell_type": "markdown",
   "metadata": {},
   "source": [
    "## Train a model"
   ]
  },
  {
   "cell_type": "markdown",
   "metadata": {},
   "source": [
    "FIXME"
   ]
  },
  {
   "cell_type": "markdown",
   "metadata": {},
   "source": [
    "#### Detection models\n",
    "\n",
    "* Need to install keras, 'pip install keras' should work\n",
    "* Input data stored in different format, maybe can be use as it is in Annotation folder? \n",
    "    * Probably not. See instructions."
   ]
  },
  {
   "cell_type": "code",
   "execution_count": null,
   "metadata": {},
   "outputs": [],
   "source": [
    "model_type_list = [ 'YOLOv3']\n",
    "model_type = model_type_list[0]\n",
    "print('Model type: ', model_type)\n",
    "train_data_path = os.path.join(data_path, 'detection')"
   ]
  },
  {
   "cell_type": "code",
   "execution_count": null,
   "metadata": {},
   "outputs": [],
   "source": [
    "model_trainer = DetectionModelTrainer()\n",
    "\n",
    "if model_type == 'YOLOv3':\n",
    "    model_trainer.setModelTypeAsYOLOv3()\n",
    "else:\n",
    "    print('Not supported')\n",
    "    \n",
    "model_trainer.setDataDirectory(train_data_path)\n",
    "\n",
    "model_trainer.setTrainConfig(object_names_array=['AdultBird', 'Chick', 'Egg'], batch_size=1, num_experiments=1,\n",
    "                            train_from_pretrained_model=\"pretrained-yolov3.h5\")\n",
    "model_trainer.trainModel()\n"
   ]
  },
  {
   "cell_type": "code",
   "execution_count": null,
   "metadata": {},
   "outputs": [],
   "source": [
    "data_path"
   ]
  },
  {
   "cell_type": "markdown",
   "metadata": {},
   "source": [
    "## Test model on an image"
   ]
  },
  {
   "cell_type": "code",
   "execution_count": null,
   "metadata": {},
   "outputs": [],
   "source": [
    "# FIXME this is copied code\n",
    "detector = CustomObjectDetection()\n",
    "detector.setModelTypeAsYOLOv3()\n",
    "detector.setModelPath(\"hololens-ex-60--loss-2.76.h5\")\n",
    "detector.setJsonPath(\"detection_config.json\")\n",
    "detector.loadModel()\n",
    "detections = detector.detectObjectsFromImage(input_image=\"holo1.jpg\", output_image_path=\"holo1-detected.jpg\")\n",
    "for detection in detections:\n",
    "    print(detection[\"name\"], \" : \", detection[\"percentage_probability\"], \" : \", detection[\"box_points\"])"
   ]
  },
  {
   "cell_type": "markdown",
   "metadata": {},
   "source": [
    "## HEJ!"
   ]
  },
  {
   "cell_type": "markdown",
   "metadata": {},
   "source": [
    "By continuing to browse the site, you are agreeing to our use of cookies."
   ]
  },
  {
   "cell_type": "code",
   "execution_count": null,
   "metadata": {},
   "outputs": [],
   "source": []
  }
 ],
 "metadata": {
  "kernelspec": {
   "display_name": "Python 3",
   "language": "python",
   "name": "python3"
  },
  "language_info": {
   "codemirror_mode": {
    "name": "ipython",
    "version": 3
   },
   "file_extension": ".py",
   "mimetype": "text/x-python",
   "name": "python",
   "nbconvert_exporter": "python",
   "pygments_lexer": "ipython3",
   "version": "3.6.8"
  },
  "toc": {
   "base_numbering": 1,
   "nav_menu": {},
   "number_sections": true,
   "sideBar": true,
   "skip_h1_title": true,
   "title_cell": "Table of Contents",
   "title_sidebar": "Contents",
   "toc_cell": true,
   "toc_position": {},
   "toc_section_display": true,
   "toc_window_display": false
  }
 },
 "nbformat": 4,
 "nbformat_minor": 2
}
