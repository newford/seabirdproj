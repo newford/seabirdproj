{
 "cells": [
  {
   "cell_type": "markdown",
   "metadata": {
    "toc": true
   },
   "source": [
    "<h1>Table of Contents<span class=\"tocSkip\"></span></h1>\n",
    "<div class=\"toc\"><ul class=\"toc-item\"><li><span><a href=\"#Data-and-paths\" data-toc-modified-id=\"Data-and-paths-1\"><span class=\"toc-item-num\">1&nbsp;&nbsp;</span>Data and paths</a></span></li><li><span><a href=\"#Prepare-data\" data-toc-modified-id=\"Prepare-data-2\"><span class=\"toc-item-num\">2&nbsp;&nbsp;</span>Prepare data</a></span></li><li><span><a href=\"#Train-a-model\" data-toc-modified-id=\"Train-a-model-3\"><span class=\"toc-item-num\">3&nbsp;&nbsp;</span>Train a model</a></span></li></ul></div>"
   ]
  },
  {
   "cell_type": "code",
   "execution_count": null,
   "metadata": {},
   "outputs": [],
   "source": [
    "# Show python version in output using sys\n",
    "import sys\n",
    "print(sys.version)"
   ]
  },
  {
   "cell_type": "code",
   "execution_count": null,
   "metadata": {},
   "outputs": [],
   "source": [
    "import pandas as pd\n",
    "import json\n",
    "import os"
   ]
  },
  {
   "cell_type": "code",
   "execution_count": null,
   "metadata": {},
   "outputs": [],
   "source": [
    "import matplotlib.pyplot as plt\n",
    "%matplotlib inline"
   ]
  },
  {
   "cell_type": "code",
   "execution_count": null,
   "metadata": {},
   "outputs": [],
   "source": [
    "# we need to crop images\n",
    "from PIL import Image\n"
   ]
  },
  {
   "cell_type": "code",
   "execution_count": null,
   "metadata": {},
   "outputs": [],
   "source": [
    "from imageai.Prediction.Custom import ModelTraining\n",
    "from imageai.Prediction.Custom import CustomImagePrediction"
   ]
  },
  {
   "cell_type": "markdown",
   "metadata": {},
   "source": [
    "## Data and paths"
   ]
  },
  {
   "cell_type": "code",
   "execution_count": null,
   "metadata": {},
   "outputs": [],
   "source": [
    "path_home = '/Users/henriknyberg/Documents/jobb/sillgrissla'  # os.getcwd()\n",
    "\n",
    "data_path = os.path.join(path_home, \"data\")\n",
    "print(data_path)"
   ]
  },
  {
   "cell_type": "code",
   "execution_count": null,
   "metadata": {},
   "outputs": [],
   "source": [
    "# Images\n",
    "image_path = os.path.join(data_path, 'Annotation/AnnotationImagesSeabirds')\n",
    "image_path_a1 = os.path.join(image_path, 'Adult birds')\n",
    "image_path_a2 = os.path.join(image_path, 'Chicks')\n",
    "image_path_a3 = os.path.join(image_path, 'Egg')\n"
   ]
  },
  {
   "cell_type": "markdown",
   "metadata": {},
   "source": [
    "## Prepare data"
   ]
  },
  {
   "cell_type": "markdown",
   "metadata": {},
   "source": [
    "Arrange data according to instructions at https://imageai.readthedocs.io/en/latest/custom/index.html\n",
    "\n",
    "* Create a dataset folder with the name you will like your dataset to be called (e.g pets)\n",
    "\n",
    "* In the dataset folder, create a folder by the name train\n",
    "\n",
    "* In the dataset folder, create a folder by the name test\n",
    "\n",
    "* In the train folder, create a folder for each object you want to the model to predict and give the folder a name that corresponds to the respective object name (e.g dog, cat, squirrel, snake)\n",
    "\n",
    "* In the test folder, create a folder for each object you want to the model to predict and give the folder a name that corresponds to the respective object name (e.g dog, cat, squirrel, snake)\n",
    "\n",
    "* In each folder present in the train folder, put the images of each object in its respective folder. This images are the ones to be used to train the model"
   ]
  },
  {
   "cell_type": "code",
   "execution_count": null,
   "metadata": {},
   "outputs": [],
   "source": [
    "# Create new folders (unless they exist) for trainng and test data in the data folder\n",
    "# Skip this if done manually\n",
    "# paths:\n",
    "train_data_path = os.path.join(data_path, 'train')\n",
    "test_data_path = os.path.join(data_path, 'test')\n",
    "train_adult = os.path.join(train_data_path, 'Adult birds')\n",
    "train_chick = os.path.join(train_data_path, 'Chicks')   \n",
    "train_egg = os.path.join(train_data_path, 'Egg')\n",
    "test_adult = os.path.join(test_data_path, 'Adult birds')\n",
    "test_chick = os.path.join(test_data_path, 'Chicks')   \n",
    "test_egg = os.path.join(test_data_path, 'Egg')\n",
    "    \n",
    "try:\n",
    "    # create training data folder\n",
    "    os.mkdir(train_data_path)\n",
    "    # create subfolders for object types\n",
    "    os.mkdir(train_adult)\n",
    "    os.mkdir(train_chick)\n",
    "    os.mkdir(train_egg)\n",
    "    print('Training data folder created')\n",
    "except Exception:\n",
    "    print('Training folder already exists')\n",
    "\n",
    "# create test data folder\n",
    "try:   \n",
    "    os.mkdir(test_data_path )\n",
    "    # create subfolders for object types\n",
    "    os.mkdir(test_adult)\n",
    "    os.mkdir(test_chick)\n",
    "    os.mkdir(test_egg)\n",
    "    print('Test data folder created')\n",
    "except Exception:\n",
    "    print('Test folder already exists')"
   ]
  },
  {
   "cell_type": "code",
   "execution_count": null,
   "metadata": {},
   "outputs": [],
   "source": []
  },
  {
   "cell_type": "code",
   "execution_count": null,
   "metadata": {},
   "outputs": [],
   "source": [
    "# Read CSV file with JSON formatted information for each training image\n",
    "path1 = os.path.join(data_path, 'Annotation', 'Export AIIOS Birds_v2.csv')\n",
    "df = pd.read_csv(path1, sep=';', header=0)\n",
    "print(df.shape)"
   ]
  },
  {
   "cell_type": "code",
   "execution_count": null,
   "metadata": {},
   "outputs": [],
   "source": [
    "# Split into training data and test data\n",
    "df_train = df.sample(frac=0.8, axis=0)\n",
    "print(df_train.shape)\n",
    "df_train.head()"
   ]
  },
  {
   "cell_type": "code",
   "execution_count": null,
   "metadata": {},
   "outputs": [],
   "source": [
    "# Remaining used for testing\n",
    "df_test = df.drop(df_train.index)\n",
    "print(df_test.shape)\n",
    "df_test.head()"
   ]
  },
  {
   "cell_type": "code",
   "execution_count": null,
   "metadata": {},
   "outputs": [],
   "source": [
    "# Working\n",
    "# Loop over all training images\n",
    "# Cut out object image\n",
    "# Save in folder\n",
    "\n",
    "image_nr = 0\n",
    "\n",
    "for ind in df_train.index:\n",
    "    p1_str = df_train.loc[ind].get_values()\n",
    "    pname, json_string = p1_str[0].split(',', 1)\n",
    "    print('File name: ', pname)\n",
    "    # Get objects\n",
    "    data = json.loads(json_string)\n",
    "    obj_list = data['objects']\n",
    "    \n",
    "    # Loop over all objects in selected image\n",
    "    for ii, obj in enumerate(obj_list):\n",
    "        success = True\n",
    "        # print(ii)\n",
    "        # print(obj)\n",
    "        # obj is a dictionary with 2 elements: 'type' and 'boundaries'\n",
    "        # obj['boundaries'] is a list with one element: a dictionary with 2 elements:'cameraId' and 'boundaryPoints'\n",
    "        object_type = obj['type'] # 'AdultBird', 'Chick' or 'Egg' \n",
    "        if len(obj['boundaries']) > 0:\n",
    "            object_boundaries = obj['boundaries'][0]['boundaryPoints'] # This is a list with 4 elements\n",
    "\n",
    "            print(object_type)\n",
    "\n",
    "            #Read image\n",
    "            \n",
    "            if pname in os.listdir(image_path):\n",
    "                im = Image.open(os.path.join(image_path, pname))\n",
    "            elif pname in os.listdir(image_path_a1):\n",
    "                im = Image.open(os.path.join(image_path_a1, pname))\n",
    "            elif pname in os.listdir(image_path_a2):\n",
    "                im = Image.open(os.path.join(image_path_a2, pname))\n",
    "            elif pname in os.listdir(image_path_a3):\n",
    "                im = Image.open(os.path.join(image_path_a3, pname))\n",
    "            else:\n",
    "                success = False\n",
    "                print('Image {} not found!'.format(pname))\n",
    "                # crash_me_now()\n",
    "        else:\n",
    "            print('Missing coordinates, skipping')\n",
    "            success = False\n",
    "        if success:\n",
    "            x_vals = [x['coords'][0] for x in object_boundaries]\n",
    "            y_vals = [x['coords'][1] for x in object_boundaries]\n",
    "            # left = min(x_vals)\n",
    "            # right = max(x_vals)\n",
    "            # bottom = max(y_vals)\n",
    "            # top = min(y_vals)\n",
    "            # box1 = (left, top, right, bottom)\n",
    "            box1 = (min(x_vals), min(y_vals), max(x_vals), max(y_vals))\n",
    "            im_part = im.crop(box1) # this is the small image, check it       \n",
    "            #plt.imshow(im_part)  # plot image\n",
    "            # plt.show() # just for testing, comment this out when done testing\n",
    "            \n",
    "            # save image\n",
    "            image_nr += 1\n",
    "            if object_type == 'AdultBird':\n",
    "                fname = 'obj_' + str(image_nr) + '.jpg'\n",
    "                im_part.save(os.path.join(train_adult,fname))\n",
    "            elif object_type == 'Chick':\n",
    "                fname = 'obj_' + str(image_nr) + '.jpg'\n",
    "                im_part.save(os.path.join(train_chick,fname))\n",
    "            elif object_type == 'Egg':\n",
    "                fname = 'obj_' + str(image_nr) + '.jpg'\n",
    "                im_part.save(os.path.join(train_egg,fname))\n",
    "        \n",
    "print('Done')  \n",
    "print('Last object:')\n",
    "plt.imshow(im_part)\n",
    "plt.show()\n",
    "\n",
    "print('Training images in these folders:')\n",
    "for pp in [train_adult, train_chick, train_egg]:\n",
    "    print(pp)"
   ]
  },
  {
   "cell_type": "code",
   "execution_count": null,
   "metadata": {},
   "outputs": [],
   "source": [
    "# Seems to work\n",
    "# Loop over all test images\n",
    "# Cut out object image\n",
    "# Save in folder\n",
    "for ind in df_test.index:\n",
    "    p1_str = df_test.loc[ind].get_values()\n",
    "    pname, json_string = p1_str[0].split(',', 1)\n",
    "    print('File name: ', pname)\n",
    "    # Get objects\n",
    "    data = json.loads(json_string)\n",
    "    obj_list = data['objects']\n",
    "    \n",
    "    # Loop over all objects in selected image\n",
    "    for ii, obj in enumerate(obj_list):\n",
    "        success = True\n",
    "        # print(ii)\n",
    "        # print(obj)\n",
    "        # obj is a dictionary with 2 elements: 'type' and 'boundaries'\n",
    "        # obj['boundaries'] is a list with one element: a dictionary with 2 elements:'cameraId' and 'boundaryPoints'\n",
    "        object_type = obj['type'] # 'AdultBird', 'Chick' or 'Egg' \n",
    "        if len(obj['boundaries']) > 0:\n",
    "            object_boundaries = obj['boundaries'][0]['boundaryPoints'] # This is a list with 4 elements\n",
    "        \n",
    "            print(object_type)\n",
    "        \n",
    "            #Read image\n",
    "           \n",
    "            if pname in os.listdir(image_path):\n",
    "                im = Image.open(os.path.join(image_path, pname))\n",
    "            elif pname in os.listdir(image_path_a1):\n",
    "                im = Image.open(os.path.join(image_path_a1, pname))\n",
    "            elif pname in os.listdir(image_path_a2):\n",
    "                im = Image.open(os.path.join(image_path_a2, pname))\n",
    "            elif pname in os.listdir(image_path_a3):\n",
    "                im = Image.open(os.path.join(image_path_a3, pname))\n",
    "            else:\n",
    "                success = False\n",
    "                print('Image {} not found!'.format(pname))\n",
    "                # crash_me_now()\n",
    "        else:\n",
    "            print('Missing coordinates, skipping')\n",
    "            success = False\n",
    "        if success:\n",
    "            x_vals = [x['coords'][0] for x in object_boundaries]\n",
    "            y_vals = [x['coords'][1] for x in object_boundaries]\n",
    "            # left = min(x_vals)\n",
    "            # right = max(x_vals)\n",
    "            # bottom = max(y_vals)\n",
    "            # top = min(y_vals)\n",
    "            # box1 = (left, top, right, bottom)\n",
    "            box1 = (min(x_vals), min(y_vals), max(x_vals), max(y_vals))\n",
    "            im_part = im.crop(box1) # this is the small image, check it       \n",
    "            #plt.imshow(im_part)  # plot image\n",
    "            # plt.show() # just for testing, comment this out when done testing\n",
    "            \n",
    "            # save image\n",
    "            image_nr += 1\n",
    "            if object_type == 'AdultBird':\n",
    "                fname = 'obj_' + str(image_nr) + '.jpg'\n",
    "                im_part.save(os.path.join(test_adult,fname))\n",
    "            elif object_type == 'Chick':\n",
    "                fname = 'obj_' + str(image_nr) + '.jpg'\n",
    "                im_part.save(os.path.join(test_chick,fname))\n",
    "            elif object_type == 'Egg':\n",
    "                fname = 'obj_' + str(image_nr) + '.jpg'\n",
    "                im_part.save(os.path.join(test_egg,fname))\n",
    "        \n",
    "print('Done')  \n",
    "print('Last object:')\n",
    "plt.imshow(im_part)\n",
    "plt.show()\n",
    "\n",
    "print('Test images in these folders:')\n",
    "for pp in [test_adult, test_chick, test_egg]:\n",
    "    print(pp)"
   ]
  },
  {
   "cell_type": "markdown",
   "metadata": {},
   "source": [
    "## Train a model"
   ]
  },
  {
   "cell_type": "markdown",
   "metadata": {},
   "source": [
    "FIXME"
   ]
  },
  {
   "cell_type": "code",
   "execution_count": null,
   "metadata": {},
   "outputs": [],
   "source": [
    "model_type_list = ['SqueezeNet' , 'ResNet' , 'InceptionV3', 'DenseNet']\n",
    "model_type = model_type_list[1]\n",
    "print('Model type: ', model_type)"
   ]
  },
  {
   "cell_type": "code",
   "execution_count": null,
   "metadata": {},
   "outputs": [],
   "source": [
    "model_trainer = ModelTraining()\n",
    "model_trainer.setModelTypeAsResNet()  # Resnet\n",
    "model_trainer.setDataDirectory(data_path)\n",
    "model_trainer.trainModel(num_objects=10, num_experiments=100, enhance_data=True, batch_size=32, \n",
    "                         show_network_summary=True)"
   ]
  }
 ],
 "metadata": {
  "kernelspec": {
   "display_name": "Python 3",
   "language": "python",
   "name": "python3"
  },
  "language_info": {
   "codemirror_mode": {
    "name": "ipython",
    "version": 3
   },
   "file_extension": ".py",
   "mimetype": "text/x-python",
   "name": "python",
   "nbconvert_exporter": "python",
   "pygments_lexer": "ipython3",
   "version": "3.6.8"
  },
  "toc": {
   "base_numbering": 1,
   "nav_menu": {},
   "number_sections": true,
   "sideBar": true,
   "skip_h1_title": true,
   "title_cell": "Table of Contents",
   "title_sidebar": "Contents",
   "toc_cell": true,
   "toc_position": {},
   "toc_section_display": true,
   "toc_window_display": false
  }
 },
 "nbformat": 4,
 "nbformat_minor": 2
}
