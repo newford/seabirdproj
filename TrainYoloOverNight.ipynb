{
 "cells": [
  {
   "cell_type": "markdown",
   "metadata": {
    "toc": true
   },
   "source": [
    "<h1>Table of Contents<span class=\"tocSkip\"></span></h1>\n",
    "<div class=\"toc\"><ul class=\"toc-item\"></ul></div>"
   ]
  },
  {
   "cell_type": "code",
   "execution_count": null,
   "metadata": {},
   "outputs": [],
   "source": [
    "# Show python version in output using sys\n",
    "import sys\n",
    "print(sys.version)"
   ]
  },
  {
   "cell_type": "code",
   "execution_count": null,
   "metadata": {},
   "outputs": [],
   "source": [
    "import os"
   ]
  },
  {
   "cell_type": "code",
   "execution_count": null,
   "metadata": {},
   "outputs": [],
   "source": [
    "# we need to crop images\n",
    "from PIL import Image"
   ]
  },
  {
   "cell_type": "code",
   "execution_count": null,
   "metadata": {},
   "outputs": [],
   "source": [
    "from imageai.Detection.Custom import DetectionModelTrainer\n",
    "from imageai.Detection.Custom import CustomObjectDetection"
   ]
  },
  {
   "cell_type": "code",
   "execution_count": null,
   "metadata": {},
   "outputs": [],
   "source": [
    "train_data_path = os.path.join(os.getcwd(), 'detection')"
   ]
  },
  {
   "cell_type": "code",
   "execution_count": null,
   "metadata": {},
   "outputs": [],
   "source": [
    "n_models = 2\n",
    "model_names = ['yolo_' + str(x + 1) for x in range(n_models)]\n",
    "model_names"
   ]
  },
  {
   "cell_type": "code",
   "execution_count": null,
   "metadata": {},
   "outputs": [],
   "source": [
    "for model_ in model_names:\n",
    "    print(model_)\n",
    "    model_trainer = DetectionModelTrainer()\n",
    "   \n",
    "    model_trainer.setModelTypeAsYOLOv3()\n",
    "    \n",
    "    # select folder to save model\n",
    "    subdir_model = os.path.join('models', model_)\n",
    "    # select folder to save JSON info (useful?)\n",
    "    subdir_json = os.path.join('json', model_)\n",
    "    #model_trainer.setDataDirectory(train_data_path, models_subdirectory=subdir_model, \n",
    "    #                               json_subdirectory=subdir_json)\n",
    "    model_trainer.setDataDirectory(train_data_path)\n",
    "\n",
    "    if model_ == model_names[0]:\n",
    "         model_trainer.setTrainConfig(object_names_array=['AdultBird', 'Chick', 'Egg'], batch_size=2, num_experiments=8,\n",
    "                            )\n",
    "         \n",
    "    elif model_ == model_names[1]:\n",
    "        model_trainer.setTrainConfig(object_names_array=['AdultBird', 'Chick', 'Egg'], batch_size=4, num_experiments=50,\n",
    "                            train_from_pretrained_model=\"pretrained-yolov3.h5\")\n",
    "    model_trainer.trainModel()\n"
   ]
  },
  {
   "cell_type": "code",
   "execution_count": null,
   "metadata": {},
   "outputs": [],
   "source": []
  }
 ],
 "metadata": {
  "kernelspec": {
   "display_name": "Python 3",
   "language": "python",
   "name": "python3"
  },
  "language_info": {
   "codemirror_mode": {
    "name": "ipython",
    "version": 3
   },
   "file_extension": ".py",
   "mimetype": "text/x-python",
   "name": "python",
   "nbconvert_exporter": "python",
   "pygments_lexer": "ipython3",
   "version": "3.6.8"
  },
  "toc": {
   "base_numbering": 1,
   "nav_menu": {},
   "number_sections": true,
   "sideBar": true,
   "skip_h1_title": true,
   "title_cell": "Table of Contents",
   "title_sidebar": "Contents",
   "toc_cell": true,
   "toc_position": {},
   "toc_section_display": true,
   "toc_window_display": false
  }
 },
 "nbformat": 4,
 "nbformat_minor": 2
}
